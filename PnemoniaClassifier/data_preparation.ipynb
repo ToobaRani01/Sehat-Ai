{
 "cells": [
  {
   "cell_type": "code",
   "execution_count": 23,
   "id": "5b4dc9d7",
   "metadata": {},
   "outputs": [],
   "source": [
    "# import libraries\n",
    "\n",
    "import pandas as pd \n",
    "from pathlib import Path"
   ]
  },
  {
   "cell_type": "code",
   "execution_count": 24,
   "id": "20e1717d",
   "metadata": {},
   "outputs": [],
   "source": [
    "# dataset path \n",
    "dataset = Path(\"./chest_xray\")\n"
   ]
  },
  {
   "cell_type": "code",
   "execution_count": 25,
   "id": "4cc80082",
   "metadata": {},
   "outputs": [],
   "source": [
    "data = []\n",
    "for split in [\"test\", \"train\", \"val\"]:\n",
    "    for class_fld in [\"NORMAL\", \"PNEUMONIA\"]:\n",
    "        folder_path = dataset / split / class_fld\n",
    "        for img_path in folder_path.glob(\"*.jpeg\"):\n",
    "            # Set label directly from folder name\n",
    "            label = \"Normal\" if class_fld == \"NORMAL\" else \"Pneumonia\"\n",
    "            \n",
    "            # Add data to list\n",
    "            data.append({\n",
    "                \"path\": str(img_path),\n",
    "                \"label\": label,\n",
    "                \"split\": split\n",
    "            })\n",
    "\n"
   ]
  },
  {
   "cell_type": "code",
   "execution_count": 26,
   "id": "ea5a1f5f",
   "metadata": {},
   "outputs": [],
   "source": [
    "\n",
    "# Create DataFrame\n",
    "df = pd.DataFrame(data)\n"
   ]
  },
  {
   "cell_type": "code",
   "execution_count": 27,
   "id": "ac049e18",
   "metadata": {},
   "outputs": [
    {
     "data": {
      "application/vnd.microsoft.datawrangler.viewer.v0+json": {
       "columns": [
        {
         "name": "index",
         "rawType": "int64",
         "type": "integer"
        },
        {
         "name": "path",
         "rawType": "object",
         "type": "string"
        },
        {
         "name": "label",
         "rawType": "object",
         "type": "string"
        },
        {
         "name": "split",
         "rawType": "object",
         "type": "string"
        }
       ],
       "ref": "5e702bf1-d764-4db2-a216-88c09624d692",
       "rows": [
        [
         "0",
         "chest_xray\\test\\NORMAL\\IM-0001-0001.jpeg",
         "Normal",
         "test"
        ],
        [
         "1",
         "chest_xray\\test\\NORMAL\\IM-0003-0001.jpeg",
         "Normal",
         "test"
        ],
        [
         "2",
         "chest_xray\\test\\NORMAL\\IM-0005-0001.jpeg",
         "Normal",
         "test"
        ],
        [
         "3",
         "chest_xray\\test\\NORMAL\\IM-0006-0001.jpeg",
         "Normal",
         "test"
        ],
        [
         "4",
         "chest_xray\\test\\NORMAL\\IM-0007-0001.jpeg",
         "Normal",
         "test"
        ]
       ],
       "shape": {
        "columns": 3,
        "rows": 5
       }
      },
      "text/html": [
       "<div>\n",
       "<style scoped>\n",
       "    .dataframe tbody tr th:only-of-type {\n",
       "        vertical-align: middle;\n",
       "    }\n",
       "\n",
       "    .dataframe tbody tr th {\n",
       "        vertical-align: top;\n",
       "    }\n",
       "\n",
       "    .dataframe thead th {\n",
       "        text-align: right;\n",
       "    }\n",
       "</style>\n",
       "<table border=\"1\" class=\"dataframe\">\n",
       "  <thead>\n",
       "    <tr style=\"text-align: right;\">\n",
       "      <th></th>\n",
       "      <th>path</th>\n",
       "      <th>label</th>\n",
       "      <th>split</th>\n",
       "    </tr>\n",
       "  </thead>\n",
       "  <tbody>\n",
       "    <tr>\n",
       "      <th>0</th>\n",
       "      <td>chest_xray\\test\\NORMAL\\IM-0001-0001.jpeg</td>\n",
       "      <td>Normal</td>\n",
       "      <td>test</td>\n",
       "    </tr>\n",
       "    <tr>\n",
       "      <th>1</th>\n",
       "      <td>chest_xray\\test\\NORMAL\\IM-0003-0001.jpeg</td>\n",
       "      <td>Normal</td>\n",
       "      <td>test</td>\n",
       "    </tr>\n",
       "    <tr>\n",
       "      <th>2</th>\n",
       "      <td>chest_xray\\test\\NORMAL\\IM-0005-0001.jpeg</td>\n",
       "      <td>Normal</td>\n",
       "      <td>test</td>\n",
       "    </tr>\n",
       "    <tr>\n",
       "      <th>3</th>\n",
       "      <td>chest_xray\\test\\NORMAL\\IM-0006-0001.jpeg</td>\n",
       "      <td>Normal</td>\n",
       "      <td>test</td>\n",
       "    </tr>\n",
       "    <tr>\n",
       "      <th>4</th>\n",
       "      <td>chest_xray\\test\\NORMAL\\IM-0007-0001.jpeg</td>\n",
       "      <td>Normal</td>\n",
       "      <td>test</td>\n",
       "    </tr>\n",
       "  </tbody>\n",
       "</table>\n",
       "</div>"
      ],
      "text/plain": [
       "                                       path   label split\n",
       "0  chest_xray\\test\\NORMAL\\IM-0001-0001.jpeg  Normal  test\n",
       "1  chest_xray\\test\\NORMAL\\IM-0003-0001.jpeg  Normal  test\n",
       "2  chest_xray\\test\\NORMAL\\IM-0005-0001.jpeg  Normal  test\n",
       "3  chest_xray\\test\\NORMAL\\IM-0006-0001.jpeg  Normal  test\n",
       "4  chest_xray\\test\\NORMAL\\IM-0007-0001.jpeg  Normal  test"
      ]
     },
     "execution_count": 27,
     "metadata": {},
     "output_type": "execute_result"
    }
   ],
   "source": [
    "df.head()"
   ]
  },
  {
   "cell_type": "code",
   "execution_count": 28,
   "id": "0fd578f9",
   "metadata": {},
   "outputs": [
    {
     "name": "stdout",
     "output_type": "stream",
     "text": [
      "split\n",
      "train    5216\n",
      "test      624\n",
      "val        16\n",
      "Name: count, dtype: int64\n"
     ]
    }
   ],
   "source": [
    "\n",
    "split_count = df['split'].value_counts()\n",
    "print(split_count)\n"
   ]
  },
  {
   "cell_type": "code",
   "execution_count": 29,
   "id": "b54cd4ae",
   "metadata": {},
   "outputs": [
    {
     "name": "stdout",
     "output_type": "stream",
     "text": [
      "Label Counts:\n",
      "label\n",
      "Pneumonia    4273\n",
      "Normal       1583\n",
      "Name: count, dtype: int64\n",
      "\n",
      "Label Percentages:\n",
      "label\n",
      "Pneumonia    72.97\n",
      "Normal       27.03\n",
      "Name: proportion, dtype: float64\n"
     ]
    }
   ],
   "source": [
    "label_count = df['label'].value_counts()\n",
    "label_percentages = df['label'].value_counts(normalize=True) * 100\n",
    "\n",
    "print(\"Label Counts:\")\n",
    "print(label_count)\n",
    "print()\n",
    "print(\"Label Percentages:\")\n",
    "print(label_percentages.round(2))  # Round to 2 decimal \n"
   ]
  },
  {
   "cell_type": "code",
   "execution_count": 30,
   "id": "a290ee73",
   "metadata": {},
   "outputs": [],
   "source": [
    "# Save to CSV \n",
    "df.to_csv(\"dataset.csv\" , index=True)"
   ]
  },
  {
   "cell_type": "code",
   "execution_count": 31,
   "id": "ca42d8fc",
   "metadata": {},
   "outputs": [
    {
     "data": {
      "text/plain": [
       "array(['Normal', 'Pneumonia'], dtype=object)"
      ]
     },
     "execution_count": 31,
     "metadata": {},
     "output_type": "execute_result"
    }
   ],
   "source": [
    "df[\"label\"].unique()"
   ]
  }
 ],
 "metadata": {
  "kernelspec": {
   "display_name": "gpu_39",
   "language": "python",
   "name": "python3"
  },
  "language_info": {
   "codemirror_mode": {
    "name": "ipython",
    "version": 3
   },
   "file_extension": ".py",
   "mimetype": "text/x-python",
   "name": "python",
   "nbconvert_exporter": "python",
   "pygments_lexer": "ipython3",
   "version": "3.9.23"
  }
 },
 "nbformat": 4,
 "nbformat_minor": 5
}
